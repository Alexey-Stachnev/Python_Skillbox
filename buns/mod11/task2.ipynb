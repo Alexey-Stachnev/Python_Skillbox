{
 "cells": [
  {
   "cell_type": "code",
   "execution_count": 1,
   "id": "initial_id",
   "metadata": {
    "collapsed": true,
    "ExecuteTime": {
     "end_time": "2023-12-11T20:48:08.059574900Z",
     "start_time": "2023-12-11T20:48:07.926169400Z"
    }
   },
   "outputs": [
    {
     "name": "stdout",
     "output_type": "stream",
     "text": [
      "0.0\n"
     ]
    }
   ],
   "source": [
    "import numpy as np\n",
    "\n",
    "a = np.random.sample((1, 3))\n",
    "a = list(a)[0]\n",
    "b = np.random.sample((1, 3))\n",
    "b = list(b)[0]\n",
    "# print(a, b)\n",
    "\n",
    "def scalar_product(a,b):\n",
    "    s = sum([a[i]*b[i] for i in range(len(a))])\n",
    "    return s\n",
    "\n",
    "def np_scalar_product(a,b):\n",
    "    s = np.vdot(a, b)\n",
    "    return s\n",
    "\n",
    "product_1 = scalar_product(a,b)\n",
    "product_2 = np_scalar_product(a,b)\n",
    "# проверим корректность:\n",
    "print(np.abs(product_1 - product_2).sum())"
   ]
  },
  {
   "cell_type": "code",
   "execution_count": null,
   "outputs": [],
   "source": [],
   "metadata": {
    "collapsed": false
   },
   "id": "1056321674b8149f"
  }
 ],
 "metadata": {
  "kernelspec": {
   "display_name": "Python 3",
   "language": "python",
   "name": "python3"
  },
  "language_info": {
   "codemirror_mode": {
    "name": "ipython",
    "version": 2
   },
   "file_extension": ".py",
   "mimetype": "text/x-python",
   "name": "python",
   "nbconvert_exporter": "python",
   "pygments_lexer": "ipython2",
   "version": "2.7.6"
  }
 },
 "nbformat": 4,
 "nbformat_minor": 5
}

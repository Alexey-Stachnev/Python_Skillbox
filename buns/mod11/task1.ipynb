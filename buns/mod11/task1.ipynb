{
 "cells": [
  {
   "cell_type": "code",
   "execution_count": null,
   "id": "initial_id",
   "metadata": {
    "collapsed": true
   },
   "outputs": [],
   "source": [
    "import numpy as np\n",
    "\n",
    "a = np.random.sample((100, 100))\n",
    "b = np.random.sample((100, 100))\n",
    "\n",
    "def mult(a, b):\n",
    "    rows_a = len(a)\n",
    "    cols_a = len(a[0])\n",
    "    rows_b = len(b)\n",
    "    cols_b = len(b[0])\n",
    "    result = [[0 for row in range(cols_b)] for col in range(rows_a)]\n",
    "\n",
    "    for s in range(rows_a):\n",
    "        for j in range(cols_b):\n",
    "            for k in range(cols_a):\n",
    "                result[s][j] += a[s][k] * b[k][j]\n",
    "    return result\n",
    "\n",
    "def np_mult(a, b):\n",
    "    result = np.dot(a, b)\n",
    "    return result\n",
    "\n",
    "M1 = mult(a, b)\n",
    "M2 = np_mult(a, b)\n",
    "np.abs(np.array(M1) - M2).sum()"
   ]
  }
 ],
 "metadata": {
  "kernelspec": {
   "display_name": "Python 3",
   "language": "python",
   "name": "python3"
  },
  "language_info": {
   "codemirror_mode": {
    "name": "ipython",
    "version": 2
   },
   "file_extension": ".py",
   "mimetype": "text/x-python",
   "name": "python",
   "nbconvert_exporter": "python",
   "pygments_lexer": "ipython2",
   "version": "2.7.6"
  }
 },
 "nbformat": 4,
 "nbformat_minor": 5
}

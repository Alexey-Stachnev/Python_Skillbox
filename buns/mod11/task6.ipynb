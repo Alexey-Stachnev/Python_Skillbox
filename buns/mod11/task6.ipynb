{
 "cells": [
  {
   "cell_type": "code",
   "execution_count": 1,
   "id": "initial_id",
   "metadata": {
    "collapsed": true,
    "ExecuteTime": {
     "end_time": "2023-12-11T20:54:48.014140200Z",
     "start_time": "2023-12-11T20:54:47.899693200Z"
    }
   },
   "outputs": [
    {
     "name": "stdout",
     "output_type": "stream",
     "text": [
      "CPU times: total: 0 ns\n",
      "Wall time: 0 ns\n"
     ]
    }
   ],
   "source": [
    "from copy import copy\n",
    "import numpy as np\n",
    "\n",
    "def np_transformation(X, a=1):\n",
    "    X2 = X.copy()\n",
    "    X2[1::2] = a\n",
    "    X2[::2] **= 3\n",
    "    X3 = np.append(X, X2)\n",
    "    return X3[::-1]\n",
    "\n",
    "X = np.array([i for i in range(1, 10, 2)])\n",
    "# функция должна работать ~ в 20 раз быстрее, чем без Numpy\n",
    "%time S2 = np_transformation(X, 5)"
   ]
  },
  {
   "cell_type": "code",
   "execution_count": null,
   "outputs": [],
   "source": [],
   "metadata": {
    "collapsed": false
   },
   "id": "5b7675726b242310"
  }
 ],
 "metadata": {
  "kernelspec": {
   "display_name": "Python 3",
   "language": "python",
   "name": "python3"
  },
  "language_info": {
   "codemirror_mode": {
    "name": "ipython",
    "version": 2
   },
   "file_extension": ".py",
   "mimetype": "text/x-python",
   "name": "python",
   "nbconvert_exporter": "python",
   "pygments_lexer": "ipython2",
   "version": "2.7.6"
  }
 },
 "nbformat": 4,
 "nbformat_minor": 5
}
